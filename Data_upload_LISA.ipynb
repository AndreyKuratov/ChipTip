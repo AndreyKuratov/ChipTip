{
  "nbformat": 4,
  "nbformat_minor": 0,
  "metadata": {
    "colab": {
      "name": "Data_upload_LISA",
      "provenance": [],
      "collapsed_sections": [
        "C8B-376d1YCd",
        "eoTnGDqW2jaU"
      ],
      "toc_visible": true,
      "mount_file_id": "1VvnG886Di_uX-3S7JWU4cBnNxeCj0Uow",
      "authorship_tag": "ABX9TyOMPwXDPI1DrNWikKWKFO8k",
      "include_colab_link": true
    },
    "kernelspec": {
      "name": "python3",
      "display_name": "Python 3"
    }
  },
  "cells": [
    {
      "cell_type": "markdown",
      "metadata": {
        "id": "view-in-github",
        "colab_type": "text"
      },
      "source": [
        "<a href=\"https://colab.research.google.com/github/AndreyKuratov/ChipTip/blob/main/Data_upload_LISA.ipynb\" target=\"_parent\"><img src=\"https://colab.research.google.com/assets/colab-badge.svg\" alt=\"Open In Colab\"/></a>"
      ]
    },
    {
      "cell_type": "code",
      "metadata": {
        "id": "wui6Qg3lpT0U"
      },
      "source": [
        "import torch\n",
        "import numpy as np\n",
        "import cv2\n",
        "import os\n",
        "import matplotlib.pyplot as plt\n",
        "from PIL import Image\n",
        "import cv2\n",
        "import yaml\n",
        "import pandas as pd\n",
        "from shutil import copyfile\n",
        "from PIL import Image\n",
        "import pathlib\n",
        "import glob"
      ],
      "execution_count": 92,
      "outputs": []
    },
    {
      "cell_type": "markdown",
      "metadata": {
        "id": "C8B-376d1YCd"
      },
      "source": [
        "# **1. Скачивание и разархиироание данных**"
      ]
    },
    {
      "cell_type": "markdown",
      "metadata": {
        "id": "t_DhedlYI9tc"
      },
      "source": [
        "Поключить свой диск с разшаренной папкой ФФ"
      ]
    },
    {
      "cell_type": "code",
      "metadata": {
        "colab": {
          "base_uri": "https://localhost:8080/"
        },
        "id": "7ItPw64V6aIO",
        "outputId": "2615fc37-fcc1-47c9-e87e-0ca400c390f8"
      },
      "source": [
        "from google.colab import drive\n",
        "drive.mount('/content/drive')"
      ],
      "execution_count": 3,
      "outputs": [
        {
          "output_type": "stream",
          "text": [
            "Mounted at /content/drive\n"
          ],
          "name": "stdout"
        }
      ]
    },
    {
      "cell_type": "markdown",
      "metadata": {
        "id": "mTTrXirvxWro"
      },
      "source": [
        "Скачивание базы из https://www.kaggle.com/"
      ]
    },
    {
      "cell_type": "code",
      "metadata": {
        "id": "TWXV1jiHQSX2"
      },
      "source": [
        " ! pip install -q kaggle"
      ],
      "execution_count": 4,
      "outputs": []
    },
    {
      "cell_type": "code",
      "metadata": {
        "colab": {
          "resources": {
            "http://localhost:8080/nbextensions/google.colab/files.js": {
              "data": "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",
              "ok": true,
              "headers": [
                [
                  "content-type",
                  "application/javascript"
                ]
              ],
              "status": 200,
              "status_text": ""
            }
          },
          "base_uri": "https://localhost:8080/",
          "height": 90
        },
        "id": "xqxv_rDqRQ2k",
        "outputId": "c3fced5a-2ad2-4048-e502-fcfa65f3f932"
      },
      "source": [
        "from google.colab import files\n",
        "files.upload()"
      ],
      "execution_count": 5,
      "outputs": [
        {
          "output_type": "display_data",
          "data": {
            "text/html": [
              "\n",
              "     <input type=\"file\" id=\"files-8d99ff32-d671-46ea-8d26-42f19a678153\" name=\"files[]\" multiple disabled\n",
              "        style=\"border:none\" />\n",
              "     <output id=\"result-8d99ff32-d671-46ea-8d26-42f19a678153\">\n",
              "      Upload widget is only available when the cell has been executed in the\n",
              "      current browser session. Please rerun this cell to enable.\n",
              "      </output>\n",
              "      <script src=\"/nbextensions/google.colab/files.js\"></script> "
            ],
            "text/plain": [
              "<IPython.core.display.HTML object>"
            ]
          },
          "metadata": {
            "tags": []
          }
        },
        {
          "output_type": "stream",
          "text": [
            "Saving kaggle.json to kaggle.json\n"
          ],
          "name": "stdout"
        },
        {
          "output_type": "execute_result",
          "data": {
            "text/plain": [
              "{'kaggle.json': b'{\"username\":\"alexwatcher\",\"key\":\"95bba53e56226f2227527b42560bed76\"}'}"
            ]
          },
          "metadata": {
            "tags": []
          },
          "execution_count": 5
        }
      ]
    },
    {
      "cell_type": "code",
      "metadata": {
        "id": "-QYXrp6IR0d4"
      },
      "source": [
        "! mkdir ~/.kaggle\n",
        "! cp kaggle.json ~/.kaggle/\n",
        "! chmod 600 ~/.kaggle/kaggle.json\n",
        "! kaggle datasets list\n",
        "! kaggle datasets download -d mbornoe/lisa-traffic-light-dataset"
      ],
      "execution_count": null,
      "outputs": []
    },
    {
      "cell_type": "markdown",
      "metadata": {
        "id": "hPxUbWcwxb9N"
      },
      "source": [
        "Копирование для хранения на диск"
      ]
    },
    {
      "cell_type": "code",
      "metadata": {
        "id": "MBx02g0rvGLL"
      },
      "source": [
        "!cp /content/lisa-traffic-light-dataset.zip /content/drive/MyDrive/TL_project"
      ],
      "execution_count": null,
      "outputs": []
    },
    {
      "cell_type": "markdown",
      "metadata": {
        "id": "wtDi7Z2mxgCC"
      },
      "source": [
        "Распаковка в директорию для работы\n"
      ]
    },
    {
      "cell_type": "code",
      "metadata": {
        "id": "s2aukjlmAA_d"
      },
      "source": [
        "!unzip /content/lisa-traffic-light-dataset.zip -d /content/project_data/"
      ],
      "execution_count": null,
      "outputs": []
    },
    {
      "cell_type": "code",
      "metadata": {
        "id": "F4FI8aNGyLMn"
      },
      "source": [
        "!rm -rf /content/project_dadta/"
      ],
      "execution_count": 51,
      "outputs": []
    },
    {
      "cell_type": "code",
      "metadata": {
        "id": "q-2jqlU75oMf"
      },
      "source": [
        "!rm -rf /content/project_data/nightSequence1\n",
        "!rm -rf /content/project_data/nightSequence2\n",
        "!rm -rf /content/project_data/nightTrain\n",
        "!rm -rf /content/project_data/sample-dayClip6\n",
        "!rm -rf /content/project_data/sample-nightClip1"
      ],
      "execution_count": 52,
      "outputs": []
    },
    {
      "cell_type": "code",
      "metadata": {
        "id": "0le7aVAc7CSg"
      },
      "source": [
        "!rm -rf /content/project_data/Annotations/Annotations/nightSequence1\n",
        "!rm -rf /content/project_data/Annotations/Annotations/nightSequence2\n",
        "!rm -rf /content/project_data/Annotations/Annotations/nightTrain\n",
        "!rm -rf /content/project_data/Annotations/Annotations/sample-dayClip6\n",
        "!rm -rf /content/project_data/Annotations/Annotations/sample-nightClip1"
      ],
      "execution_count": 53,
      "outputs": []
    },
    {
      "cell_type": "markdown",
      "metadata": {
        "id": "PnAnw0mqJENi"
      },
      "source": [
        "Команды консоли которые могу понодобиться"
      ]
    },
    {
      "cell_type": "code",
      "metadata": {
        "id": "9G-zRw2_tuDB"
      },
      "source": [
        "#!unzip /content/Lara_UrbanSeq1_JPG.zip\n",
        "#!rm -rf /content/drive/MyDrive/TL_project/rgb\n",
        "#!cp -r /content/drive/MyDrive/TL_project/Lara3D_UrbanSeq1_JPG /content/Lara_data/"
      ],
      "execution_count": null,
      "outputs": []
    },
    {
      "cell_type": "markdown",
      "metadata": {
        "id": "A3B-U0ls1hLe"
      },
      "source": [
        "# **2. Работа с метками**"
      ]
    },
    {
      "cell_type": "markdown",
      "metadata": {
        "id": "eoTnGDqW2jaU"
      },
      "source": [
        "\n",
        "### Просмотр меток.\n",
        " Сравнить на выводе чем отлиыаются BOX and BULB"
      ]
    },
    {
      "cell_type": "code",
      "metadata": {
        "id": "ogx1lpjG1m6t"
      },
      "source": [
        "path_to_labels01 = '/content/project_dadta/Annotations/Annotations/daySequence1/frameAnnotationsBOX.csv'\n",
        "path_to_labels02 = '/content/project_dadta/Annotations/Annotations/daySequence1/frameAnnotationsBULB.csv'\n",
        "data01 = pd.read_csv(path_to_labels01,sep=';')\n",
        "data02 = pd.read_csv(path_to_labels02,sep=';')"
      ],
      "execution_count": 24,
      "outputs": []
    },
    {
      "cell_type": "code",
      "metadata": {
        "colab": {
          "base_uri": "https://localhost:8080/"
        },
        "id": "cWvz15_R1nl2",
        "outputId": "a77feadb-d453-4cfe-eb46-54d8a469dc59"
      },
      "source": [
        "data01.head(2)\n",
        "data01['Annotation tag'].unique()"
      ],
      "execution_count": 77,
      "outputs": [
        {
          "output_type": "execute_result",
          "data": {
            "text/plain": [
              "array(['stop', 'go', 'warning', 'warningLeft', 'stopLeft'], dtype=object)"
            ]
          },
          "metadata": {
            "tags": []
          },
          "execution_count": 77
        }
      ]
    },
    {
      "cell_type": "code",
      "metadata": {
        "colab": {
          "base_uri": "https://localhost:8080/",
          "height": 210
        },
        "id": "sZbMks3k1njM",
        "outputId": "d6177029-1a1e-4adf-b8de-fb6ac128fd0f"
      },
      "source": [
        "data02.head(2)"
      ],
      "execution_count": 26,
      "outputs": [
        {
          "output_type": "execute_result",
          "data": {
            "text/html": [
              "<div>\n",
              "<style scoped>\n",
              "    .dataframe tbody tr th:only-of-type {\n",
              "        vertical-align: middle;\n",
              "    }\n",
              "\n",
              "    .dataframe tbody tr th {\n",
              "        vertical-align: top;\n",
              "    }\n",
              "\n",
              "    .dataframe thead th {\n",
              "        text-align: right;\n",
              "    }\n",
              "</style>\n",
              "<table border=\"1\" class=\"dataframe\">\n",
              "  <thead>\n",
              "    <tr style=\"text-align: right;\">\n",
              "      <th></th>\n",
              "      <th>Filename</th>\n",
              "      <th>Annotation tag</th>\n",
              "      <th>Upper left corner X</th>\n",
              "      <th>Upper left corner Y</th>\n",
              "      <th>Lower right corner X</th>\n",
              "      <th>Lower right corner Y</th>\n",
              "      <th>Origin file</th>\n",
              "      <th>Origin frame number</th>\n",
              "      <th>Origin track</th>\n",
              "      <th>Origin track frame number</th>\n",
              "    </tr>\n",
              "  </thead>\n",
              "  <tbody>\n",
              "    <tr>\n",
              "      <th>0</th>\n",
              "      <td>dayTest/daySequence1--00000.jpg</td>\n",
              "      <td>stop</td>\n",
              "      <td>710</td>\n",
              "      <td>481</td>\n",
              "      <td>714</td>\n",
              "      <td>486</td>\n",
              "      <td>dayTest/daySequence1/Day1EveningShutter0.00020...</td>\n",
              "      <td>0</td>\n",
              "      <td>dayTest/daySequence1/Day1EveningShutter0.00020...</td>\n",
              "      <td>0</td>\n",
              "    </tr>\n",
              "    <tr>\n",
              "      <th>1</th>\n",
              "      <td>dayTest/daySequence1--00001.jpg</td>\n",
              "      <td>stop</td>\n",
              "      <td>710</td>\n",
              "      <td>478</td>\n",
              "      <td>715</td>\n",
              "      <td>483</td>\n",
              "      <td>dayTest/daySequence1/Day1EveningShutter0.00020...</td>\n",
              "      <td>1</td>\n",
              "      <td>dayTest/daySequence1/Day1EveningShutter0.00020...</td>\n",
              "      <td>1</td>\n",
              "    </tr>\n",
              "  </tbody>\n",
              "</table>\n",
              "</div>"
            ],
            "text/plain": [
              "                          Filename  ... Origin track frame number\n",
              "0  dayTest/daySequence1--00000.jpg  ...                         0\n",
              "1  dayTest/daySequence1--00001.jpg  ...                         1\n",
              "\n",
              "[2 rows x 10 columns]"
            ]
          },
          "metadata": {
            "tags": []
          },
          "execution_count": 26
        }
      ]
    },
    {
      "cell_type": "markdown",
      "metadata": {
        "id": "KR-asUnv35g-"
      },
      "source": [
        "## Создает список со всеми файлмаи\n",
        "\n"
      ]
    },
    {
      "cell_type": "code",
      "metadata": {
        "id": "Kp4c1Tif1ndZ"
      },
      "source": [
        "def list_of_files(path_walk,ftype='txt'):\n",
        "    list_path_files = []\n",
        "    for root, dirs, files in os.walk(path_walk):\n",
        "      for filename in files:\n",
        "        if (filename[-len(ftype):] == ftype):\n",
        "          tot_path = root+'/' + filename \n",
        "          list_path_files.append(tot_path)\n",
        "    return list_path_files\n",
        "\n",
        "def copyJpgfromList(dirPath,list_of_files):\n",
        "    path = pathlib.Path(dirPath)\n",
        "    path.parent.mkdir(parents=True, exist_ok=True)\n",
        "    if not( os.path.isdir(dirPath)):\n",
        "      os.mkdir(dirPath)\n",
        "    for ipathFile in  list_of_files:\n",
        "      copyfile(ipathFile, dirPath+ipathFile.split('/')[-1])\n",
        "\n",
        "def crtTxtFiles(path_save,dataframe, ordLabels=['fileName01','lbl','cntX','cntY','Width','Height']):\n",
        "    path = pathlib.Path(path_save)\n",
        "    path.parent.mkdir(parents=True, exist_ok=True) \n",
        "    if not( os.path.isdir(path_save)):\n",
        "      os.mkdir(path_save)\n",
        "\n",
        "    unique_names = dataframe[ordLabels[0]].unique()\n",
        "    for iname in unique_names:\n",
        "      savePath = path_save+iname[:-3]+'txt'\n",
        "      df = dataframe[dataframe['fileName01']==iname]\n",
        "      with open(savePath, 'w') as f:\n",
        "        for index, row in df.iterrows():\n",
        "          line = str(row[ordLabels[1]])+' '+str(row[ordLabels[2]])+' '+str(row[ordLabels[3]])+' '+str(row[ordLabels[4]])+' '+str(row[ordLabels[5]])\n",
        "          print(line, file=f)\n",
        "        f.close()\n",
        "\n",
        "def compareTextJpg(path_save = '/content/'):\n",
        "  path_walk = path_save\n",
        "  count_txt = 0\n",
        "  count_jpg = 0 \n",
        "  for root, dirs, files in os.walk(path_walk):\n",
        "      for filename in files:\n",
        "        if (filename[-3:] == 'jpg'):\n",
        "          count_jpg+=1\n",
        "        if (filename[-3:] == 'txt'):\n",
        "          count_txt+=1\n",
        "        path_txt = root+filename[:-3]+'txt'\n",
        "        path_jpg =  root+filename[:-3]+'jpg'\n",
        "        if ((os.path.exists(path_jpg)))and (not(os.path.exists(path_txt))):\n",
        "          print('txt jpg',path_txt)\n",
        "        if (not(os.path.exists(path_jpg)))and ((os.path.exists(path_txt))):\n",
        "          print('no jpg',path_jpg)\n",
        "  print(count_jpg,count_txt)\n",
        "\n",
        "\n",
        "def crtEmptyTxt(path_save,svEmptFlag=True,emptyName='empty.txt'):\n",
        "    emptyList = []\n",
        "    for root, dirs, files in os.walk(path_save):\n",
        "      for filename in files:\n",
        "        if (filename[-3:] == 'jpg'):\n",
        "          path_jpg =root+'/'+filename\n",
        "          path_txt = root+'/'+filename[:-3]+'txt'\n",
        "          if not( os.path.isfile(path_txt)):\n",
        "            emptyList.append(filename[:-3]+'txt')\n",
        "            f = open(path_txt,'w')\n",
        "            f.close()\n",
        "\n",
        "    if (svEmptFlag):\n",
        "      fl = open(path_save+emptyName,'w')\n",
        "      for lineEmpty in emptyList:\n",
        "        print(lineEmpty,file=fl)\n",
        "      fl.close()\n",
        "\n",
        "\n",
        "    return emptyList\n",
        "\n",
        "def makeVidoeYolo(path_files,out_video_path,N_frames=10,fps=5):\n",
        "  img_array = []\n",
        "\n",
        "  def make_rect(img, coords, height, width,clrLbl):\n",
        "      x1 = int(coords[0] - coords[2]/2)\n",
        "      x2 = int(coords[0] + coords[2]/2)\n",
        "      y1 = int(coords[1] - coords[3]/2)\n",
        "      y2 = int(coords[1] + coords[3]/2)\n",
        "      if clrLbl == 0:\n",
        "        colrTup =  (0,0,0)\n",
        "      elif clrLbl == 1 :\n",
        "        colrTup = (0,0,255)\n",
        "      elif clrLbl == 2 :\n",
        "        colrTup = (0,255,255) \n",
        "      elif clrLbl == 3 :\n",
        "        colrTup = (0,255,0)\n",
        "      else: \n",
        "        colrTup = (255,0,0)\n",
        "      img = cv2.rectangle(img,(x2,y2),(x1,y1),\n",
        "                        colrTup,3)\n",
        "      return img\n",
        "\n",
        "  path_proceed = path_files+'/*.jpg'\n",
        "  for filename in glob.glob(path_proceed)[:N_frames]:\n",
        "      print(filename)\n",
        "      img = cv2.imread(filename)\n",
        "      f = open(filename[:-3]+'txt')\n",
        "      height, width, layers = img.shape\n",
        "      size = (width,height)\n",
        "\n",
        "      for lineData in f.read().split('\\n'):\n",
        "          lineDD = lineData.split(' ') \n",
        "          if len(lineDD)>2:\n",
        "            cl_lbl = lineDD[0]\n",
        "            coords = [float(lineDD[1])*width, float(lineDD[2])*height,\n",
        "                      float(lineDD[3])*width, float(lineDD[4])*height]\n",
        "\n",
        "            img = make_rect(img, coords,height,width,int(cl_lbl))\n",
        "      f.close()\n",
        "      img_array.append(img)\n",
        "  out = cv2.VideoWriter(out_video_path,cv2.VideoWriter_fourcc(*'DIVX'), fps, size)\n",
        "  for i in range(len(img_array)):\n",
        "      out.write(img_array[i])\n",
        "  out.release()\n",
        "\n"
      ],
      "execution_count": 143,
      "outputs": []
    },
    {
      "cell_type": "code",
      "metadata": {
        "id": "Vln6ySqZ8Zp_"
      },
      "source": [
        "\n"
      ],
      "execution_count": 137,
      "outputs": []
    },
    {
      "cell_type": "code",
      "metadata": {
        "colab": {
          "base_uri": "https://localhost:8080/"
        },
        "id": "Q_AXaiQt1nab",
        "outputId": "ff162a40-3313-4881-bdea-cec77874230f"
      },
      "source": [
        "path_walk = '/content/project_data/' \n",
        "file_example_path = '/content/project_data/daySequence1/daySequence1/frames/daySequence1--00001.jpg'\n",
        "\n",
        "list_path_files = list_of_files(path_walk,ftype='BOX.csv')\n",
        "\n",
        "DF_list = []\n",
        "for ipath in list_path_files:\n",
        "  DF_list.append( pd.read_csv(ipath,sep=';'))\n",
        "result  = pd.concat(DF_list)\n",
        "\n",
        "fileName = result['Filename'].str.split('/',expand=True)[1]\n",
        "result['fileName01'] = fileName\n",
        "dataDo = result[['fileName01','Filename','Annotation tag','Upper left corner X','Upper left corner Y','Lower right corner X','Lower right corner Y']]\n",
        "\n",
        "\n",
        "img = cv2.imread(file_example_path)\n",
        "Heig, Wdth, layers = img.shape\n",
        "\n",
        "dataDo['cntX'] = (dataDo['Upper left corner X']+dataDo['Lower right corner X'])/2/Wdth\n",
        "dataDo['cntY'] = (dataDo['Upper left corner Y']+dataDo['Lower right corner Y'])/2/Heig\n",
        "dataDo['Width'] =  abs(dataDo['Upper left corner X']-dataDo['Lower right corner X'])/Wdth\n",
        "dataDo['Height'] = abs(dataDo['Upper left corner Y']-dataDo['Lower right corner Y'])/Heig\n",
        "dataDo['lbl'] = 0\n",
        "dataDo['lbl'][dataDo['Annotation tag']=='stop'] =  1\n",
        "dataDo['lbl'][dataDo['Annotation tag']=='go'] =  3\n",
        "dataDo['lbl'][dataDo['Annotation tag']=='warning'] = 2\n",
        "#dataDo['lbl'][(dataDo['Annotation tag']=='warning')|(dataDo['Annotation tag']=='warning')] = 0  \n"
      ],
      "execution_count": 144,
      "outputs": [
        {
          "output_type": "stream",
          "text": [
            "/usr/local/lib/python3.7/dist-packages/ipykernel_launcher.py:19: SettingWithCopyWarning: \n",
            "A value is trying to be set on a copy of a slice from a DataFrame.\n",
            "Try using .loc[row_indexer,col_indexer] = value instead\n",
            "\n",
            "See the caveats in the documentation: https://pandas.pydata.org/pandas-docs/stable/user_guide/indexing.html#returning-a-view-versus-a-copy\n",
            "/usr/local/lib/python3.7/dist-packages/ipykernel_launcher.py:20: SettingWithCopyWarning: \n",
            "A value is trying to be set on a copy of a slice from a DataFrame.\n",
            "Try using .loc[row_indexer,col_indexer] = value instead\n",
            "\n",
            "See the caveats in the documentation: https://pandas.pydata.org/pandas-docs/stable/user_guide/indexing.html#returning-a-view-versus-a-copy\n",
            "/usr/local/lib/python3.7/dist-packages/ipykernel_launcher.py:21: SettingWithCopyWarning: \n",
            "A value is trying to be set on a copy of a slice from a DataFrame.\n",
            "Try using .loc[row_indexer,col_indexer] = value instead\n",
            "\n",
            "See the caveats in the documentation: https://pandas.pydata.org/pandas-docs/stable/user_guide/indexing.html#returning-a-view-versus-a-copy\n",
            "/usr/local/lib/python3.7/dist-packages/ipykernel_launcher.py:24: SettingWithCopyWarning: \n",
            "A value is trying to be set on a copy of a slice from a DataFrame\n",
            "\n",
            "See the caveats in the documentation: https://pandas.pydata.org/pandas-docs/stable/user_guide/indexing.html#returning-a-view-versus-a-copy\n",
            "/usr/local/lib/python3.7/dist-packages/ipykernel_launcher.py:25: SettingWithCopyWarning: \n",
            "A value is trying to be set on a copy of a slice from a DataFrame\n",
            "\n",
            "See the caveats in the documentation: https://pandas.pydata.org/pandas-docs/stable/user_guide/indexing.html#returning-a-view-versus-a-copy\n",
            "/usr/local/lib/python3.7/dist-packages/ipykernel_launcher.py:26: SettingWithCopyWarning: \n",
            "A value is trying to be set on a copy of a slice from a DataFrame\n",
            "\n",
            "See the caveats in the documentation: https://pandas.pydata.org/pandas-docs/stable/user_guide/indexing.html#returning-a-view-versus-a-copy\n"
          ],
          "name": "stderr"
        }
      ]
    },
    {
      "cell_type": "code",
      "metadata": {
        "id": "X-W7rSUpEsqX"
      },
      "source": [
        "path_to_load = '/content/LISA_res/'\n",
        "\n",
        "#list_path_files01 = list_of_files(path_walk,ftype='.jpg')\n",
        "#copyJpgfromList(path_to_load,list_path_files01)\n",
        "crtTxtFiles(path_to_load,dataDo)\n",
        "#crtEmptyTxt(path_to_load)"
      ],
      "execution_count": 145,
      "outputs": []
    },
    {
      "cell_type": "code",
      "metadata": {
        "colab": {
          "base_uri": "https://localhost:8080/"
        },
        "id": "IqZ4aFopXQpu",
        "outputId": "1f0d7c7f-2907-4f94-9f3d-98a293527572"
      },
      "source": [
        "compareTextJpg(path_to_load);"
      ],
      "execution_count": 136,
      "outputs": [
        {
          "output_type": "stream",
          "text": [
            "no jpg /content/LISA_res/empty.jpg\n",
            "24988 24989\n"
          ],
          "name": "stdout"
        }
      ]
    },
    {
      "cell_type": "code",
      "metadata": {
        "id": "m2xsyymkSSLD"
      },
      "source": [
        ""
      ],
      "execution_count": 114,
      "outputs": []
    },
    {
      "cell_type": "code",
      "metadata": {
        "id": "YcQYYGW7bC2V"
      },
      "source": [
        "path_to_load = '/content/LISA_res/'\n",
        "out_video_path= '/content/LISA.avi'\n",
        "makeVidoeYolo(path_to_load,out_video_path,N_frames=40,fps=1)"
      ],
      "execution_count": null,
      "outputs": []
    },
    {
      "cell_type": "code",
      "metadata": {
        "id": "n6IC0-IZXYli"
      },
      "source": [
        "!zip -r /content/drive/MyDrive/TL_project/LISA_res.zip  /content/LISA_res"
      ],
      "execution_count": null,
      "outputs": []
    },
    {
      "cell_type": "code",
      "metadata": {
        "id": "2xmHAy8ujRCp"
      },
      "source": [
        "! rm -rf /content/LISA_res/"
      ],
      "execution_count": null,
      "outputs": []
    },
    {
      "cell_type": "markdown",
      "metadata": {
        "id": "kvhPNOG-ZRRg"
      },
      "source": [
        "# Работа с ячейкой как с консолью"
      ]
    },
    {
      "cell_type": "code",
      "metadata": {
        "id": "w_paoBFmZWeK"
      },
      "source": [
        "!rm -rf /content/content/"
      ],
      "execution_count": null,
      "outputs": []
    },
    {
      "cell_type": "code",
      "metadata": {
        "id": "Lf3FKYpdZfw0"
      },
      "source": [
        "!rm -rf /content/driveU/Dortmund/\n",
        "!rm -rf /content/driveU/Dortmun_res/\n",
        "\n",
        "!rm -rf /content/driveU/Frankfurt/\n",
        "!rm -rf /content/driveU/Frankfurt_res/\n",
        "\n",
        "!rm -rf /content/driveU/Hannover/\n",
        "!rm -rf /content/driveU/Hannover_res/\n",
        "\n",
        "!rm -rf  /content/driveU/Fulda/\n",
        "!rm -rf  /content/driveU/Fulda_res/"
      ],
      "execution_count": null,
      "outputs": []
    },
    {
      "cell_type": "code",
      "metadata": {
        "id": "h0DZNrkgaSvo"
      },
      "source": [
        ""
      ],
      "execution_count": null,
      "outputs": []
    }
  ]
}