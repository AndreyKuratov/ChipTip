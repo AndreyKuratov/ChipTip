{
  "nbformat": 4,
  "nbformat_minor": 0,
  "metadata": {
    "colab": {
      "name": "Homework_03.ipynb",
      "provenance": [],
      "collapsed_sections": []
    },
    "kernelspec": {
      "display_name": "Python 3",
      "language": "python",
      "name": "python3"
    },
    "language_info": {
      "codemirror_mode": {
        "name": "ipython",
        "version": 3
      },
      "file_extension": ".py",
      "mimetype": "text/x-python",
      "name": "python",
      "nbconvert_exporter": "python",
      "pygments_lexer": "ipython3",
      "version": "3.6.9"
    },
    "accelerator": "GPU",
    "widgets": {
      "application/vnd.jupyter.widget-state+json": {
        "218b6c4b2a5540248700ca86074fcca5": {
          "model_module": "@jupyter-widgets/controls",
          "model_name": "HBoxModel",
          "state": {
            "_view_name": "HBoxView",
            "_dom_classes": [],
            "_model_name": "HBoxModel",
            "_view_module": "@jupyter-widgets/controls",
            "_model_module_version": "1.5.0",
            "_view_count": null,
            "_view_module_version": "1.5.0",
            "box_style": "",
            "layout": "IPY_MODEL_fcbf640004e4418ebd20d3bc9f53baf8",
            "_model_module": "@jupyter-widgets/controls",
            "children": [
              "IPY_MODEL_66d00307048b4061b220f3e278e95cb7",
              "IPY_MODEL_0cf0595f158a48e685e0101ae13f6c67"
            ]
          }
        },
        "fcbf640004e4418ebd20d3bc9f53baf8": {
          "model_module": "@jupyter-widgets/base",
          "model_name": "LayoutModel",
          "state": {
            "_view_name": "LayoutView",
            "grid_template_rows": null,
            "right": null,
            "justify_content": null,
            "_view_module": "@jupyter-widgets/base",
            "overflow": null,
            "_model_module_version": "1.2.0",
            "_view_count": null,
            "flex_flow": null,
            "width": null,
            "min_width": null,
            "border": null,
            "align_items": null,
            "bottom": null,
            "_model_module": "@jupyter-widgets/base",
            "top": null,
            "grid_column": null,
            "overflow_y": null,
            "overflow_x": null,
            "grid_auto_flow": null,
            "grid_area": null,
            "grid_template_columns": null,
            "flex": null,
            "_model_name": "LayoutModel",
            "justify_items": null,
            "grid_row": null,
            "max_height": null,
            "align_content": null,
            "visibility": null,
            "align_self": null,
            "height": null,
            "min_height": null,
            "padding": null,
            "grid_auto_rows": null,
            "grid_gap": null,
            "max_width": null,
            "order": null,
            "_view_module_version": "1.2.0",
            "grid_template_areas": null,
            "object_position": null,
            "object_fit": null,
            "grid_auto_columns": null,
            "margin": null,
            "display": null,
            "left": null
          }
        },
        "66d00307048b4061b220f3e278e95cb7": {
          "model_module": "@jupyter-widgets/controls",
          "model_name": "FloatProgressModel",
          "state": {
            "_view_name": "ProgressView",
            "style": "IPY_MODEL_4102ebe968e34fc1ab3e002547f90245",
            "_dom_classes": [],
            "description": "",
            "_model_name": "FloatProgressModel",
            "bar_style": "info",
            "max": 1,
            "_view_module": "@jupyter-widgets/controls",
            "_model_module_version": "1.5.0",
            "value": 1,
            "_view_count": null,
            "_view_module_version": "1.5.0",
            "orientation": "horizontal",
            "min": 0,
            "description_tooltip": null,
            "_model_module": "@jupyter-widgets/controls",
            "layout": "IPY_MODEL_5260e2e41454411f8412f23277d72096"
          }
        },
        "0cf0595f158a48e685e0101ae13f6c67": {
          "model_module": "@jupyter-widgets/controls",
          "model_name": "HTMLModel",
          "state": {
            "_view_name": "HTMLView",
            "style": "IPY_MODEL_ea3234c20eea459a8734dc3500127d6b",
            "_dom_classes": [],
            "description": "",
            "_model_name": "HTMLModel",
            "placeholder": "​",
            "_view_module": "@jupyter-widgets/controls",
            "_model_module_version": "1.5.0",
            "value": " 170500096/? [00:30&lt;00:00, 17963054.76it/s]",
            "_view_count": null,
            "_view_module_version": "1.5.0",
            "description_tooltip": null,
            "_model_module": "@jupyter-widgets/controls",
            "layout": "IPY_MODEL_8cfd737d7f7c4098bd6820160fa86d83"
          }
        },
        "4102ebe968e34fc1ab3e002547f90245": {
          "model_module": "@jupyter-widgets/controls",
          "model_name": "ProgressStyleModel",
          "state": {
            "_view_name": "StyleView",
            "_model_name": "ProgressStyleModel",
            "description_width": "initial",
            "_view_module": "@jupyter-widgets/base",
            "_model_module_version": "1.5.0",
            "_view_count": null,
            "_view_module_version": "1.2.0",
            "bar_color": null,
            "_model_module": "@jupyter-widgets/controls"
          }
        },
        "5260e2e41454411f8412f23277d72096": {
          "model_module": "@jupyter-widgets/base",
          "model_name": "LayoutModel",
          "state": {
            "_view_name": "LayoutView",
            "grid_template_rows": null,
            "right": null,
            "justify_content": null,
            "_view_module": "@jupyter-widgets/base",
            "overflow": null,
            "_model_module_version": "1.2.0",
            "_view_count": null,
            "flex_flow": null,
            "width": null,
            "min_width": null,
            "border": null,
            "align_items": null,
            "bottom": null,
            "_model_module": "@jupyter-widgets/base",
            "top": null,
            "grid_column": null,
            "overflow_y": null,
            "overflow_x": null,
            "grid_auto_flow": null,
            "grid_area": null,
            "grid_template_columns": null,
            "flex": null,
            "_model_name": "LayoutModel",
            "justify_items": null,
            "grid_row": null,
            "max_height": null,
            "align_content": null,
            "visibility": null,
            "align_self": null,
            "height": null,
            "min_height": null,
            "padding": null,
            "grid_auto_rows": null,
            "grid_gap": null,
            "max_width": null,
            "order": null,
            "_view_module_version": "1.2.0",
            "grid_template_areas": null,
            "object_position": null,
            "object_fit": null,
            "grid_auto_columns": null,
            "margin": null,
            "display": null,
            "left": null
          }
        },
        "ea3234c20eea459a8734dc3500127d6b": {
          "model_module": "@jupyter-widgets/controls",
          "model_name": "DescriptionStyleModel",
          "state": {
            "_view_name": "StyleView",
            "_model_name": "DescriptionStyleModel",
            "description_width": "",
            "_view_module": "@jupyter-widgets/base",
            "_model_module_version": "1.5.0",
            "_view_count": null,
            "_view_module_version": "1.2.0",
            "_model_module": "@jupyter-widgets/controls"
          }
        },
        "8cfd737d7f7c4098bd6820160fa86d83": {
          "model_module": "@jupyter-widgets/base",
          "model_name": "LayoutModel",
          "state": {
            "_view_name": "LayoutView",
            "grid_template_rows": null,
            "right": null,
            "justify_content": null,
            "_view_module": "@jupyter-widgets/base",
            "overflow": null,
            "_model_module_version": "1.2.0",
            "_view_count": null,
            "flex_flow": null,
            "width": null,
            "min_width": null,
            "border": null,
            "align_items": null,
            "bottom": null,
            "_model_module": "@jupyter-widgets/base",
            "top": null,
            "grid_column": null,
            "overflow_y": null,
            "overflow_x": null,
            "grid_auto_flow": null,
            "grid_area": null,
            "grid_template_columns": null,
            "flex": null,
            "_model_name": "LayoutModel",
            "justify_items": null,
            "grid_row": null,
            "max_height": null,
            "align_content": null,
            "visibility": null,
            "align_self": null,
            "height": null,
            "min_height": null,
            "padding": null,
            "grid_auto_rows": null,
            "grid_gap": null,
            "max_width": null,
            "order": null,
            "_view_module_version": "1.2.0",
            "grid_template_areas": null,
            "object_position": null,
            "object_fit": null,
            "grid_auto_columns": null,
            "margin": null,
            "display": null,
            "left": null
          }
        }
      }
    }
  },
  "cells": [
    {
      "cell_type": "markdown",
      "metadata": {
        "id": "dbGec4tuFg6-"
      },
      "source": [
        "# PyTorch\n",
        "\n",
        "* PyTorch [website](https://pytorch.org/)\n",
        "* [Tutorials](https://pytorch.org/tutorials/)`"
      ]
    },
    {
      "cell_type": "code",
      "metadata": {
        "id": "zRXqjWHVFgmr"
      },
      "source": [
        "import cv2\n",
        "import numpy as np\n",
        "\n",
        "import torch\n",
        "import torch.nn as nn\n",
        "import torch.nn.functional as F\n",
        "from torchvision import datasets, transforms\n",
        "\n",
        "import matplotlib.pyplot as plt"
      ],
      "execution_count": 1,
      "outputs": []
    },
    {
      "cell_type": "code",
      "metadata": {
        "id": "U62usNc6FcwP"
      },
      "source": [
        "def img_show(img, opencv=False):\n",
        "    if opencv:\n",
        "        img_to_show = cv2.cvtColor(img, cv2.COLOR_BGR2RGB)\n",
        "    else:\n",
        "        img_to_show = img\n",
        "    plt.figure(dpi=50)\n",
        "    plt.axis('off')\n",
        "    plt.imshow(img_to_show)\n",
        "    plt.show()"
      ],
      "execution_count": 2,
      "outputs": []
    },
    {
      "cell_type": "markdown",
      "metadata": {
        "id": "6KAZWMXlIP5U"
      },
      "source": [
        "## Dataset\n",
        "### Task: image classification\n",
        "\n",
        "Dataset: [CIFAR10](https://www.cs.toronto.edu/~kriz/cifar.html) - 10 classes, color images 32x32 px"
      ]
    },
    {
      "cell_type": "code",
      "metadata": {
        "id": "8OvAaugZIGba"
      },
      "source": [
        "# CIFAR10 Classes\n",
        "classes = ('plane', 'car', 'bird', 'cat',\n",
        "           'deer', 'dog', 'frog', 'horse', 'ship', 'truck')"
      ],
      "execution_count": 3,
      "outputs": []
    },
    {
      "cell_type": "markdown",
      "metadata": {
        "id": "jMtOD3dR-rzS"
      },
      "source": [
        "* Real-world PyTorch dataset [example](https://pytorch.org/tutorials/beginner/data_loading_tutorial.html)\n",
        "* PyTorch torchvision [datasets](https://pytorch.org/docs/stable/torchvision/datasets.html)"
      ]
    },
    {
      "cell_type": "code",
      "metadata": {
        "id": "0K8ZT70iG_W-"
      },
      "source": [
        "train_split_len = 8192*5\n",
        "test_split_len = 4096*5\n",
        "\n",
        "def get_loaders(batch_size=128, num_workers=2, transform=transforms.ToTensor()):\n",
        "    train = datasets.CIFAR10('../data', train=True, download=True, transform=transform)\n",
        "    test = datasets.CIFAR10('../data', train=False, download=True, transform=transform)\n",
        "    torch.manual_seed(123)  # To ensure the same sampling during each experiment\n",
        "    train = torch.utils.data.random_split(train, [train_split_len, len(train)-train_split_len])[0]\n",
        "    test = torch.utils.data.random_split(test, [test_split_len, len(test)-test_split_len])[0]\n",
        "    \n",
        "    train_loader = torch.utils.data.DataLoader(train, batch_size=batch_size, num_workers=num_workers, shuffle=True)\n",
        "    test_loader = torch.utils.data.DataLoader(test, batch_size=batch_size, num_workers=num_workers, shuffle=False)\n",
        "    return train_loader, test_loader"
      ],
      "execution_count": 4,
      "outputs": []
    },
    {
      "cell_type": "code",
      "metadata": {
        "colab": {
          "base_uri": "https://localhost:8080/",
          "height": 1000,
          "referenced_widgets": [
            "218b6c4b2a5540248700ca86074fcca5",
            "fcbf640004e4418ebd20d3bc9f53baf8",
            "66d00307048b4061b220f3e278e95cb7",
            "0cf0595f158a48e685e0101ae13f6c67",
            "4102ebe968e34fc1ab3e002547f90245",
            "5260e2e41454411f8412f23277d72096",
            "ea3234c20eea459a8734dc3500127d6b",
            "8cfd737d7f7c4098bd6820160fa86d83"
          ]
        },
        "id": "_T4HQ0LAHhBp",
        "scrolled": true,
        "outputId": "7302652a-be34-4d71-c42f-2f0e2ee3aa4e"
      },
      "source": [
        "train_loader, test_loader = get_loaders(8)\n",
        "images, labels = iter(train_loader).next()\n",
        "print(\"Tensor shape: {} BatchxCxHxW\".format(images.shape))\n",
        "labels = labels.numpy()\n",
        "for i in range(images.shape[0]):\n",
        "    print(classes[labels[i]])\n",
        "    img = images[i, ...].numpy()\n",
        "    img = np.moveaxis(img, 0, 2)\n",
        "    img_show(img)"
      ],
      "execution_count": 5,
      "outputs": [
        {
          "output_type": "stream",
          "text": [
            "Downloading https://www.cs.toronto.edu/~kriz/cifar-10-python.tar.gz to ../data/cifar-10-python.tar.gz\n"
          ],
          "name": "stdout"
        },
        {
          "output_type": "display_data",
          "data": {
            "application/vnd.jupyter.widget-view+json": {
              "model_id": "218b6c4b2a5540248700ca86074fcca5",
              "version_minor": 0,
              "version_major": 2
            },
            "text/plain": [
              "HBox(children=(FloatProgress(value=1.0, bar_style='info', max=1.0), HTML(value='')))"
            ]
          },
          "metadata": {
            "tags": []
          }
        },
        {
          "output_type": "stream",
          "text": [
            "Extracting ../data/cifar-10-python.tar.gz to ../data\n",
            "Files already downloaded and verified\n",
            "Tensor shape: torch.Size([8, 3, 32, 32]) BatchxCxHxW\n",
            "cat\n"
          ],
          "name": "stdout"
        },
        {
          "output_type": "display_data",
          "data": {
            "image/png": "[encoded data removed]",
            "text/plain": [
              "<Figure size 300x200 with 1 Axes>"
            ]
          },
          "metadata": {
            "tags": [],
            "needs_background": "light"
          }
        },
        {
          "output_type": "stream",
          "text": [
            "deer\n"
          ],
          "name": "stdout"
        },
        {
          "output_type": "display_data",
          "data": {
            "image/png": "[encoded data removed]",
            "text/plain": [
              "<Figure size 300x200 with 1 Axes>"
            ]
          },
          "metadata": {
            "tags": [],
            "needs_background": "light"
          }
        },
        {
          "output_type": "stream",
          "text": [
            "dog\n"
          ],
          "name": "stdout"
        },
        {
          "output_type": "display_data",
          "data": {
            "image/png": "[encoded data removed]",
            "text/plain": [
              "<Figure size 300x200 with 1 Axes>"
            ]
          },
          "metadata": {
            "tags": [],
            "needs_background": "light"
          }
        },
        {
          "output_type": "stream",
          "text": [
            "ship\n"
          ],
          "name": "stdout"
        },
        {
          "output_type": "display_data",
          "data": {
            "image/png": "[encoded data removed]",
            "text/plain": [
              "<Figure size 300x200 with 1 Axes>"
            ]
          },
          "metadata": {
            "tags": [],
            "needs_background": "light"
          }
        },
        {
          "output_type": "stream",
          "text": [
            "deer\n"
          ],
          "name": "stdout"
        },
        {
          "output_type": "display_data",
          "data": {
            "image/png": "[encoded data removed]",
            "text/plain": [
              "<Figure size 300x200 with 1 Axes>"
            ]
          },
          "metadata": {
            "tags": [],
            "needs_background": "light"
          }
        },
        {
          "output_type": "stream",
          "text": [
            "frog\n"
          ],
          "name": "stdout"
        },
        {
          "output_type": "display_data",
          "data": {
            "image/png": "[encoded data removed]",
            "text/plain": [
              "<Figure size 300x200 with 1 Axes>"
            ]
          },
          "metadata": {
            "tags": [],
            "needs_background": "light"
          }
        },
        {
          "output_type": "stream",
          "text": [
            "frog\n"
          ],
          "name": "stdout"
        },
        {
          "output_type": "display_data",
          "data": {
            "image/png": "[encoded data removed]",
            "text/plain": [
              "<Figure size 300x200 with 1 Axes>"
            ]
          },
          "metadata": {
            "tags": [],
            "needs_background": "light"
          }
        },
        {
          "output_type": "stream",
          "text": [
            "horse\n"
          ],
          "name": "stdout"
        },
        {
          "output_type": "display_data",
          "data": {
            "image/png": "[encoded data removed]",
            "text/plain": [
              "<Figure size 300x200 with 1 Axes>"
            ]
          },
          "metadata": {
            "tags": [],
            "needs_background": "light"
          }
        }
      ]
    },
    {
      "cell_type": "markdown",
      "metadata": {
        "id": "0kP-N95WHVaN"
      },
      "source": [
        "## Model\n",
        "\n",
        "Docs:\n",
        "\n",
        "* [torch.nn](https://pytorch.org/docs/stable/nn.html)\n",
        "* torchvision [models](https://pytorch.org/docs/stable/torchvision/models.html)\n",
        "\n",
        "\n",
        "```\n",
        "conv = nn.Conv2d(in_channels, out_channels, kernel_size, stride, padding)\n",
        "pool = nn.MaxPool2d(kernel_size, stride, padding)\n",
        "batchnorm = nn.BatchNorm2d(num_features)\n",
        "fc = nn.Linear(in_features, out_features)\n",
        "dropout = nn.Dropout2d(p)\n",
        "\n",
        "```"
      ]
    },
    {
      "cell_type": "code",
      "metadata": {
        "id": "7zQZaQHN-rzV"
      },
      "source": [
        "class Net(nn.Module):\n",
        "    def __init__(self):\n",
        "        super(Net, self).__init__()\n",
        "        self.conv1 = nn.Conv2d(in_channels=3, out_channels=6, kernel_size=5, stride=1, padding=0)\n",
        "        self.pool1 = nn.MaxPool2d(kernel_size=2, stride=2, padding=0)\n",
        "        self.conv2 = nn.Conv2d(in_channels=6, out_channels=16, kernel_size=5, stride=1, padding=0)\n",
        "        self.pool2 = nn.MaxPool2d(kernel_size=2, stride=2, padding=0)\n",
        "        self.fc1 = nn.Linear(16*5*5, 120)\n",
        "        self.fc2 = nn.Linear(120, 84)\n",
        "        self.fc3 = nn.Linear(84, 10)\n",
        "    \n",
        "    def forward(self, x):\n",
        "        x = self.conv1(x)\n",
        "        x = F.relu(x)\n",
        "        x = self.pool1(x)\n",
        "        x = self.conv2(x)\n",
        "        x = F.relu(x)\n",
        "        x = self.pool2(x)  # Batchx16x5x5\n",
        "        x = torch.flatten(x, 1)\n",
        "        x = self.fc1(x)\n",
        "        x = F.relu(x)\n",
        "        x = self.fc2(x)\n",
        "        x = F.relu(x)\n",
        "        x = self.fc3(x)  # Batchx10\n",
        "        x = F.log_softmax(x, 1)\n",
        "        return x"
      ],
      "execution_count": 6,
      "outputs": []
    },
    {
      "cell_type": "code",
      "metadata": {
        "id": "7z7yLULW-rzW"
      },
      "source": [
        "def train(model, device, train_loader, optimizer):\n",
        "    model.train()\n",
        "    for data, target in train_loader:\n",
        "        data = data.to(device)\n",
        "        target = target.to(device)\n",
        "        optimizer.zero_grad()\n",
        "        out = model(data)\n",
        "        loss = F.nll_loss(out, target)\n",
        "        loss.backward()\n",
        "        optimizer.step()\n",
        "\n",
        "\n",
        "def test(model, device, test_loader):\n",
        "    model.eval()\n",
        "    test_loss = 0\n",
        "    correct = 0\n",
        "    totnum = 0\n",
        "    with torch.no_grad():\n",
        "        for data, target in test_loader:\n",
        "            data = data.to(device)\n",
        "            target = target.to(device)\n",
        "            out = model(data)\n",
        "            loss = F.nll_loss(out, target, reduction='sum')\n",
        "            test_loss += loss.item()\n",
        "            outputAc = torch.argmax(out,dim=1)\n",
        "            correct += (outputAc == target).float().sum()\n",
        "            totnum += outputAc.size()[0]\n",
        "\n",
        "    return test_loss / len(test_loader.dataset), correct/totnum\n",
        "\n",
        "def EarlyStopping(paramTrain,ParamTest,typeF = 'easy',pStop=[5, 0.1],outF=False):\n",
        "    FlagOfStopping = False\n",
        "    if typeF == 'easy':\n",
        "      param = torch.abs((paramTrain[0]-paramTrain[1])/(ParamTest[0]-ParamTest[1])/pStop[0])\n",
        "      if outF:\n",
        "        print('param: {:.3f}'.format(param))\n",
        "      if param>1:\n",
        "        FlagOfStopping = True\n",
        "    elif typeF == 'esdf':\n",
        "      try:\n",
        "        param1 = torch.abs((paramTrain[0]-paramTrain[1])/(ParamTest[0]-ParamTest[1])/pStop[0])\n",
        "        param2 = torch.abs((paramTrain[1]-ParamTest[1])/ParamTest[1]*pStop[1])\n",
        "      except:\n",
        "        param1=1\n",
        "        param2=1\n",
        "      if outF:\n",
        "        print('param: {:.3f} param dif: {:.3f}'.format(param1,param2))\n",
        "      if ((param1>1)or(param2>1)):\n",
        "        FlagOfStopping = True\n",
        "    else:\n",
        "      pass\n",
        "\n",
        "    return FlagOfStopping"
      ],
      "execution_count": 7,
      "outputs": []
    },
    {
      "cell_type": "code",
      "metadata": {
        "id": "DxHytblQ-rzY",
        "colab": {
          "base_uri": "https://localhost:8080/"
        },
        "outputId": "9bd1e93a-9575-4920-ef25-e8abcb6ff20d"
      },
      "source": [
        "#Check that we have a GPU\n",
        "torch.cuda.is_available()"
      ],
      "execution_count": 8,
      "outputs": [
        {
          "output_type": "execute_result",
          "data": {
            "text/plain": [
              "True"
            ]
          },
          "metadata": {
            "tags": []
          },
          "execution_count": 8
        }
      ]
    },
    {
      "cell_type": "code",
      "metadata": {
        "id": "v2Yo38Cw-rzZ",
        "colab": {
          "base_uri": "https://localhost:8080/"
        },
        "outputId": "baaba388-8cd1-4e78-f78e-81ec60a6b600"
      },
      "source": [
        "epochs = 100\n",
        "device = torch.device('cuda:0')\n",
        "\n",
        "batch_size = 64\n",
        "lr = 1e-3\n",
        "\n",
        "transform=transforms.Compose([\n",
        "    transforms.ToTensor(),\n",
        "    transforms.Normalize((0.5, 0.5, 0.5), (0.5, 0.5, 0.5))\n",
        "])\n",
        "\n",
        "train_loader, test_loader = get_loaders(batch_size=batch_size, transform=transform, num_workers=4)\n",
        "model = Net().to(device)\n",
        "optimizer = torch.optim.Adam(model.parameters(), lr=lr)\n",
        "#optimizer = torch.optim.SGD(model.parameters(), lr=lr, momentum=0.9)\n",
        "scheduler = torch.optim.lr_scheduler.ReduceLROnPlateau(optimizer,'max',patience=2,verbose=False,eps=1e-10)\n",
        "acc_train = []\n",
        "acc_test = []\n",
        "\n",
        "ls_train = []\n",
        "ls_test = []\n",
        "\n",
        "lastTrain = 0\n",
        "lastTest = 0\n",
        "\n",
        "for epoch in range(epochs):\n",
        "    train(model, device, train_loader, optimizer)\n",
        "    test_loss, acc = test(model, device, test_loader)\n",
        "    train_loss, acc_tr = test(model, device, train_loader)\n",
        "    scheduler.step(torch.round(acc*1000))\n",
        "    acc_train.append(acc_tr)\n",
        "    acc_test.append(acc)    \n",
        "    ls_train.append(train_loss)\n",
        "    ls_test.append(test_loss)\n",
        "    print(\"Epoch: {}, test loss: {} \\n accuracy test: {:.1f}% accuracy train: {:.1f}% \\n\".format(epoch, test_loss, 100*acc,100*acc_tr))\n",
        "    #if EarlyStopping([acc_tr,lastTrain],[acc,lastTest],outF=True):\n",
        "    #  break\n",
        "    lastTest = acc\n",
        "    lastTrain = acc_tr"
      ],
      "execution_count": 8,
      "outputs": [
        {
          "output_type": "stream",
          "text": [
            "Files already downloaded and verified\n",
            "Files already downloaded and verified\n",
            "Epoch: 0, test loss: 1.4784249017715454 \n",
            " accuracy test: 46.0% accuracy train: 46.1% \n",
            "\n",
            "Epoch: 1, test loss: 1.3508886516571046 \n",
            " accuracy test: 51.3% accuracy train: 52.7% \n",
            "\n",
            "Epoch: 2, test loss: 1.2712690359115602 \n",
            " accuracy test: 54.9% accuracy train: 56.4% \n",
            "\n",
            "Epoch: 3, test loss: 1.2163053276062012 \n",
            " accuracy test: 56.8% accuracy train: 59.5% \n",
            "\n",
            "Epoch: 4, test loss: 1.172018707370758 \n",
            " accuracy test: 58.9% accuracy train: 62.3% \n",
            "\n",
            "Epoch: 5, test loss: 1.1331390992164612 \n",
            " accuracy test: 59.6% accuracy train: 64.2% \n",
            "\n",
            "Epoch: 6, test loss: 1.0973761045455932 \n",
            " accuracy test: 61.4% accuracy train: 66.6% \n",
            "\n",
            "Epoch: 7, test loss: 1.1143366345405579 \n",
            " accuracy test: 60.7% accuracy train: 66.3% \n",
            "\n",
            "Epoch: 8, test loss: 1.0788593642234803 \n",
            " accuracy test: 62.2% accuracy train: 68.9% \n",
            "\n",
            "Epoch: 9, test loss: 1.0701765481948853 \n",
            " accuracy test: 62.6% accuracy train: 69.6% \n",
            "\n",
            "Epoch: 10, test loss: 1.1039798644065857 \n",
            " accuracy test: 62.0% accuracy train: 69.7% \n",
            "\n",
            "Epoch: 11, test loss: 1.069499556541443 \n",
            " accuracy test: 63.1% accuracy train: 72.7% \n",
            "\n",
            "Epoch: 12, test loss: 1.1237390891075134 \n",
            " accuracy test: 61.2% accuracy train: 70.9% \n",
            "\n",
            "Epoch: 13, test loss: 1.0912600463867188 \n",
            " accuracy test: 63.2% accuracy train: 74.3% \n",
            "\n",
            "Epoch: 14, test loss: 1.1056610507965088 \n",
            " accuracy test: 62.8% accuracy train: 75.1% \n",
            "\n",
            "Epoch: 15, test loss: 1.0833632771492003 \n",
            " accuracy test: 63.8% accuracy train: 77.2% \n",
            "\n",
            "Epoch: 16, test loss: 1.1290999856948853 \n",
            " accuracy test: 62.7% accuracy train: 76.4% \n",
            "\n",
            "Epoch: 17, test loss: 1.123463327217102 \n",
            " accuracy test: 63.3% accuracy train: 78.2% \n",
            "\n",
            "Epoch: 18, test loss: 1.180328518295288 \n",
            " accuracy test: 62.1% accuracy train: 76.8% \n",
            "\n",
            "Epoch: 19, test loss: 1.1415477758407593 \n",
            " accuracy test: 64.0% accuracy train: 81.5% \n",
            "\n",
            "Epoch: 20, test loss: 1.15656169424057 \n",
            " accuracy test: 64.1% accuracy train: 82.1% \n",
            "\n",
            "Epoch: 21, test loss: 1.1668255999565125 \n",
            " accuracy test: 63.9% accuracy train: 82.4% \n",
            "\n",
            "Epoch: 22, test loss: 1.1854521488189698 \n",
            " accuracy test: 63.9% accuracy train: 82.6% \n",
            "\n",
            "Epoch: 23, test loss: 1.2002627155303955 \n",
            " accuracy test: 63.8% accuracy train: 82.6% \n",
            "\n",
            "Epoch: 24, test loss: 1.1887645496368409 \n",
            " accuracy test: 64.1% accuracy train: 83.1% \n",
            "\n",
            "Epoch: 25, test loss: 1.190905288887024 \n",
            " accuracy test: 64.1% accuracy train: 83.1% \n",
            "\n",
            "Epoch: 26, test loss: 1.1929375874519348 \n",
            " accuracy test: 64.1% accuracy train: 83.2% \n",
            "\n",
            "Epoch: 27, test loss: 1.1930807262420655 \n",
            " accuracy test: 64.1% accuracy train: 83.2% \n",
            "\n",
            "Epoch: 28, test loss: 1.1933343760490418 \n",
            " accuracy test: 64.1% accuracy train: 83.2% \n",
            "\n",
            "Epoch: 29, test loss: 1.193538667678833 \n",
            " accuracy test: 64.1% accuracy train: 83.2% \n",
            "\n",
            "Epoch: 30, test loss: 1.1935544915199279 \n",
            " accuracy test: 64.1% accuracy train: 83.2% \n",
            "\n",
            "Epoch: 31, test loss: 1.19356963224411 \n",
            " accuracy test: 64.1% accuracy train: 83.2% \n",
            "\n",
            "Epoch: 32, test loss: 1.193590671157837 \n",
            " accuracy test: 64.1% accuracy train: 83.2% \n",
            "\n",
            "Epoch: 33, test loss: 1.193590869998932 \n",
            " accuracy test: 64.1% accuracy train: 83.2% \n",
            "\n",
            "Epoch: 34, test loss: 1.1935913369178772 \n",
            " accuracy test: 64.1% accuracy train: 83.2% \n",
            "\n",
            "Epoch: 35, test loss: 1.1935915676116944 \n",
            " accuracy test: 64.1% accuracy train: 83.2% \n",
            "\n",
            "Epoch: 36, test loss: 1.193591561126709 \n",
            " accuracy test: 64.1% accuracy train: 83.2% \n",
            "\n",
            "Epoch: 37, test loss: 1.1935915782928468 \n",
            " accuracy test: 64.1% accuracy train: 83.2% \n",
            "\n",
            "Epoch: 38, test loss: 1.1935915706634521 \n",
            " accuracy test: 64.1% accuracy train: 83.2% \n",
            "\n",
            "Epoch: 39, test loss: 1.1935915754318238 \n",
            " accuracy test: 64.1% accuracy train: 83.2% \n",
            "\n",
            "Epoch: 40, test loss: 1.1935915696144104 \n",
            " accuracy test: 64.1% accuracy train: 83.2% \n",
            "\n",
            "Epoch: 41, test loss: 1.1935915628433227 \n",
            " accuracy test: 64.1% accuracy train: 83.2% \n",
            "\n",
            "Epoch: 42, test loss: 1.1935915637016297 \n",
            " accuracy test: 64.1% accuracy train: 83.2% \n",
            "\n",
            "Epoch: 43, test loss: 1.1935915683746339 \n",
            " accuracy test: 64.1% accuracy train: 83.2% \n",
            "\n",
            "Epoch: 44, test loss: 1.1935915678024291 \n",
            " accuracy test: 64.1% accuracy train: 83.2% \n",
            "\n",
            "Epoch: 45, test loss: 1.1935915605545044 \n",
            " accuracy test: 64.1% accuracy train: 83.2% \n",
            "\n",
            "Epoch: 46, test loss: 1.193591562461853 \n",
            " accuracy test: 64.1% accuracy train: 83.2% \n",
            "\n",
            "Epoch: 47, test loss: 1.193591562461853 \n",
            " accuracy test: 64.1% accuracy train: 83.2% \n",
            "\n",
            "Epoch: 48, test loss: 1.1935915635108947 \n",
            " accuracy test: 64.1% accuracy train: 83.2% \n",
            "\n",
            "Epoch: 49, test loss: 1.1935915585517882 \n",
            " accuracy test: 64.1% accuracy train: 83.2% \n",
            "\n",
            "Epoch: 50, test loss: 1.1935915654182434 \n",
            " accuracy test: 64.1% accuracy train: 83.2% \n",
            "\n",
            "Epoch: 51, test loss: 1.1935915725708008 \n",
            " accuracy test: 64.1% accuracy train: 83.2% \n",
            "\n",
            "Epoch: 52, test loss: 1.1935915711402894 \n",
            " accuracy test: 64.1% accuracy train: 83.2% \n",
            "\n",
            "Epoch: 53, test loss: 1.1935915642738342 \n",
            " accuracy test: 64.1% accuracy train: 83.2% \n",
            "\n",
            "Epoch: 54, test loss: 1.1935915689468384 \n",
            " accuracy test: 64.1% accuracy train: 83.2% \n",
            "\n",
            "Epoch: 55, test loss: 1.1935915769577026 \n",
            " accuracy test: 64.1% accuracy train: 83.2% \n",
            "\n",
            "Epoch: 56, test loss: 1.1935915685653686 \n",
            " accuracy test: 64.1% accuracy train: 83.2% \n",
            "\n",
            "Epoch: 57, test loss: 1.1935915691375731 \n",
            " accuracy test: 64.1% accuracy train: 83.2% \n",
            "\n",
            "Epoch: 58, test loss: 1.1935915710449219 \n",
            " accuracy test: 64.1% accuracy train: 83.2% \n",
            "\n",
            "Epoch: 59, test loss: 1.1935915769577026 \n",
            " accuracy test: 64.1% accuracy train: 83.2% \n",
            "\n",
            "Epoch: 60, test loss: 1.193591575050354 \n",
            " accuracy test: 64.1% accuracy train: 83.2% \n",
            "\n",
            "Epoch: 61, test loss: 1.1935915695190429 \n",
            " accuracy test: 64.1% accuracy train: 83.2% \n",
            "\n",
            "Epoch: 62, test loss: 1.1935915658950806 \n",
            " accuracy test: 64.1% accuracy train: 83.2% \n",
            "\n",
            "Epoch: 63, test loss: 1.1935915723800659 \n",
            " accuracy test: 64.1% accuracy train: 83.2% \n",
            "\n",
            "Epoch: 64, test loss: 1.1935915712356568 \n",
            " accuracy test: 64.1% accuracy train: 83.2% \n",
            "\n",
            "Epoch: 65, test loss: 1.1935915727615356 \n",
            " accuracy test: 64.1% accuracy train: 83.2% \n",
            "\n",
            "Epoch: 66, test loss: 1.1935915716171264 \n",
            " accuracy test: 64.1% accuracy train: 83.2% \n",
            "\n",
            "Epoch: 67, test loss: 1.1935915704727174 \n",
            " accuracy test: 64.1% accuracy train: 83.2% \n",
            "\n",
            "Epoch: 68, test loss: 1.1935915724754333 \n",
            " accuracy test: 64.1% accuracy train: 83.2% \n",
            "\n",
            "Epoch: 69, test loss: 1.1935915765762328 \n",
            " accuracy test: 64.1% accuracy train: 83.2% \n",
            "\n",
            "Epoch: 70, test loss: 1.1935915732383728 \n",
            " accuracy test: 64.1% accuracy train: 83.2% \n",
            "\n",
            "Epoch: 71, test loss: 1.1935915758132936 \n",
            " accuracy test: 64.1% accuracy train: 83.2% \n",
            "\n",
            "Epoch: 72, test loss: 1.1935915704727174 \n",
            " accuracy test: 64.1% accuracy train: 83.2% \n",
            "\n",
            "Epoch: 73, test loss: 1.1935915712356568 \n",
            " accuracy test: 64.1% accuracy train: 83.2% \n",
            "\n",
            "Epoch: 74, test loss: 1.193591565322876 \n",
            " accuracy test: 64.1% accuracy train: 83.2% \n",
            "\n",
            "Epoch: 75, test loss: 1.1935915727615356 \n",
            " accuracy test: 64.1% accuracy train: 83.2% \n",
            "\n",
            "Epoch: 76, test loss: 1.1935915746688843 \n",
            " accuracy test: 64.1% accuracy train: 83.2% \n",
            "\n",
            "Epoch: 77, test loss: 1.1935915807723998 \n",
            " accuracy test: 64.1% accuracy train: 83.2% \n",
            "\n",
            "Epoch: 78, test loss: 1.1935915719985961 \n",
            " accuracy test: 64.1% accuracy train: 83.2% \n",
            "\n",
            "Epoch: 79, test loss: 1.193591575050354 \n",
            " accuracy test: 64.1% accuracy train: 83.2% \n",
            "\n",
            "Epoch: 80, test loss: 1.1935915796279908 \n",
            " accuracy test: 64.1% accuracy train: 83.2% \n",
            "\n",
            "Epoch: 81, test loss: 1.1935915767669678 \n",
            " accuracy test: 64.1% accuracy train: 83.2% \n",
            "\n",
            "Epoch: 82, test loss: 1.193591576194763 \n",
            " accuracy test: 64.1% accuracy train: 83.2% \n",
            "\n",
            "Epoch: 83, test loss: 1.193591561317444 \n",
            " accuracy test: 64.1% accuracy train: 83.2% \n",
            "\n",
            "Epoch: 84, test loss: 1.1935915647506714 \n",
            " accuracy test: 64.1% accuracy train: 83.2% \n",
            "\n",
            "Epoch: 85, test loss: 1.1935915698051454 \n",
            " accuracy test: 64.1% accuracy train: 83.2% \n",
            "\n",
            "Epoch: 86, test loss: 1.1935915682792664 \n",
            " accuracy test: 64.1% accuracy train: 83.2% \n",
            "\n",
            "Epoch: 87, test loss: 1.1935915670394897 \n",
            " accuracy test: 64.1% accuracy train: 83.2% \n",
            "\n",
            "Epoch: 88, test loss: 1.1935915723800659 \n",
            " accuracy test: 64.1% accuracy train: 83.2% \n",
            "\n",
            "Epoch: 89, test loss: 1.193591579246521 \n",
            " accuracy test: 64.1% accuracy train: 83.2% \n",
            "\n",
            "Epoch: 90, test loss: 1.193591561317444 \n",
            " accuracy test: 64.1% accuracy train: 83.2% \n",
            "\n",
            "Epoch: 91, test loss: 1.1935915746688843 \n",
            " accuracy test: 64.1% accuracy train: 83.2% \n",
            "\n",
            "Epoch: 92, test loss: 1.193591571521759 \n",
            " accuracy test: 64.1% accuracy train: 83.2% \n",
            "\n",
            "Epoch: 93, test loss: 1.1935915693283081 \n",
            " accuracy test: 64.1% accuracy train: 83.2% \n",
            "\n",
            "Epoch: 94, test loss: 1.1935915704727174 \n",
            " accuracy test: 64.1% accuracy train: 83.2% \n",
            "\n",
            "Epoch: 95, test loss: 1.1935915738105773 \n",
            " accuracy test: 64.1% accuracy train: 83.2% \n",
            "\n",
            "Epoch: 96, test loss: 1.1935915822029113 \n",
            " accuracy test: 64.1% accuracy train: 83.2% \n",
            "\n",
            "Epoch: 97, test loss: 1.1935915771484376 \n",
            " accuracy test: 64.1% accuracy train: 83.2% \n",
            "\n",
            "Epoch: 98, test loss: 1.1935915758132936 \n",
            " accuracy test: 64.1% accuracy train: 83.2% \n",
            "\n",
            "Epoch: 99, test loss: 1.1935915765762328 \n",
            " accuracy test: 64.1% accuracy train: 83.2% \n",
            "\n"
          ],
          "name": "stdout"
        }
      ]
    },
    {
      "cell_type": "code",
      "metadata": {
        "id": "EzD-ZCbb-rzZ",
        "colab": {
          "base_uri": "https://localhost:8080/",
          "height": 353
        },
        "outputId": "11b9724a-17b8-4840-a219-146dfb5c887c"
      },
      "source": [
        "import matplotlib.pyplot as plt\r\n",
        " \r\n",
        "dLTrain = np.array(ls_train,dtype='float')\r\n",
        "dLTest = np.array(ls_test,dtype='float')\r\n",
        "\r\n",
        "dATrain = np.array(acc_train,dtype='float')\r\n",
        "dATest = np.array(acc_test,dtype='float')\r\n",
        "\r\n",
        "f = plt.figure(figsize=(10,5))\r\n",
        "ax = f.add_subplot(1,2,1)\r\n",
        "ax.plot(dATrain)\r\n",
        "ax.plot(dATest)\r\n",
        "ax.legend(['Train','Test'])\r\n",
        "ax.set_title('Accuracy')\r\n",
        "ax1 = f.add_subplot(1,2,2)\r\n",
        "ax1.set_title('Loss')\r\n",
        "ax1.plot(dLTrain)\r\n",
        "ax1.plot(dLTest)\r\n",
        "ax1.legend(['Train','Test'])\r\n"
      ],
      "execution_count": 9,
      "outputs": [
        {
          "output_type": "execute_result",
          "data": {
            "text/plain": [
              "<matplotlib.legend.Legend at 0x7f9bf63cafd0>"
            ]
          },
          "metadata": {
            "tags": []
          },
          "execution_count": 9
        },
        {
          "output_type": "display_data",
          "data": {
            "image/png": "[encoded data removed]",
            "text/plain": [
              "<Figure size 720x360 with 2 Axes>"
            ]
          },
          "metadata": {
            "tags": [],
            "needs_background": "light"
          }
        }
      ]
    },
    {
      "cell_type": "markdown",
      "metadata": {
        "id": "4v90_P-j-rzb"
      },
      "source": [
        "## Homework 03\n",
        "\n",
        "Task: Train a DL model to classify CIFAR10 dataset with accuracy >75%\n",
        "\n",
        "1. (1) Implement top-1 percentage correct metric (accuracy) and apply it on the test stage.\n",
        "2. (1) Use ReduceLROnPlateau to monitor the model performance by the accuracy metric on the test subset and adjust learning rate. Use EarlyStopping to avoid overfitting.\n",
        "4. (3) Experiment to achieve accuracy >75%. Experiments may include: Architecture changes, data augmentation, LR and training strategy changes. Feel free to change any part of the starter code.\n",
        "\n",
        "\n",
        "Use [leaderboard](https://paperswithcode.com/sota/image-classification-on-cifar-10) for inspiration."
      ]
    },
    {
      "cell_type": "code",
      "metadata": {
        "id": "DpEDIjN0-rzb",
        "colab": {
          "base_uri": "https://localhost:8080/"
        },
        "outputId": "e7e2440c-ef92-4c6c-cb1e-27946ec335c9"
      },
      "source": [
        ""
      ],
      "execution_count": 81,
      "outputs": [
        {
          "output_type": "execute_result",
          "data": {
            "text/plain": [
              "20"
            ]
          },
          "metadata": {
            "tags": []
          },
          "execution_count": 81
        }
      ]
    },
    {
      "cell_type": "markdown",
      "metadata": {
        "id": "LJwI-a_h-rzb"
      },
      "source": [
        "4*. (2) achieve accuracy >80%."
      ]
    },
    {
      "cell_type": "code",
      "metadata": {
        "id": "G6G9ig8D-rzc"
      },
      "source": [
        ""
      ],
      "execution_count": null,
      "outputs": []
    },
    {
      "cell_type": "markdown",
      "metadata": {
        "id": "Fh9KY13q-rzc"
      },
      "source": [
        "5**(8). Achieve accuracy >92%."
      ]
    },
    {
      "cell_type": "code",
      "metadata": {
        "id": "s6lMyovF-rzc"
      },
      "source": [
        ""
      ],
      "execution_count": null,
      "outputs": []
    },
    {
      "cell_type": "markdown",
      "metadata": {
        "id": "BF4gGI-Z-rzd"
      },
      "source": [
        "6 * * * (100). Achieve accuracy >93.51% on **CIFAR100**.\n",
        "\n",
        "[leaderboard](https://paperswithcode.com/sota/image-classification-on-cifar-100)\n",
        "\n",
        "Use any novel or existing model, except for EffNet-L2.\n",
        "\n",
        "Rules:\n",
        "1. Do not use extra data, pretrained models.\n",
        "2. Do not modify labels.\n",
        "3. Follow [Reproducibility](https://pytorch.org/docs/stable/notes/randomness.html) protocol.\n",
        "3. Deadline is 13/02/2021."
      ]
    },
    {
      "cell_type": "code",
      "metadata": {
        "id": "404nKvIZ-rzk"
      },
      "source": [
        ""
      ],
      "execution_count": null,
      "outputs": []
    },
    {
      "cell_type": "code",
      "metadata": {
        "id": "CHnXzMHZ-rzk"
      },
      "source": [
        ""
      ],
      "execution_count": null,
      "outputs": []
    }
  ]
}